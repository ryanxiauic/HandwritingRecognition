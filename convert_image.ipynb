{
 "cells": [
  {
   "cell_type": "code",
   "execution_count": 1,
   "metadata": {},
   "outputs": [],
   "source": [
    "%reload_ext autoreload\n",
    "import cv2\n",
    "from path import Path\n",
    "import sys\n",
    "sys.path.append('cnn')\n",
    "from processimg import process_img\n",
    "import concurrent.futures\n",
    "from concurrent.futures import ThreadPoolExecutor, ALL_COMPLETED, ProcessPoolExecutor"
   ]
  },
  {
   "cell_type": "code",
   "execution_count": null,
   "metadata": {},
   "outputs": [],
   "source": [
    "%%time\n",
    "pool = ThreadPoolExecutor(max_workers=8)\n",
    "p = Path('./cnn/datasets/original/NumericResult1-G')\n",
    "save_dir = Path('./cnn/datasets/train/ABCDEFG/6_G1')\n",
    "save_dir.mkdir_p()\n",
    "\n",
    "def func(img_path):\n",
    "    img_name = img_path.name\n",
    "    img = cv2.imread(img_path, 0)\n",
    "    img_new = process_img(img, border=False, img_type='abcd', clear_noise=True) \n",
    "    cv2.imwrite(save_dir / img_name, img_new) \n",
    "    \n",
    "futures = [pool.submit(func, img_path) for img_path in p.files()]\n",
    "concurrent.futures.wait(futures, return_when=ALL_COMPLETED)"
   ]
  }
 ],
 "metadata": {
  "kernelspec": {
   "display_name": "Python 3",
   "language": "python",
   "name": "python3"
  },
  "language_info": {
   "codemirror_mode": {
    "name": "ipython",
    "version": 3
   },
   "file_extension": ".py",
   "mimetype": "text/x-python",
   "name": "python",
   "nbconvert_exporter": "python",
   "pygments_lexer": "ipython3",
   "version": "3.5.2"
  }
 },
 "nbformat": 4,
 "nbformat_minor": 2
}
