{
 "cells": [
  {
   "cell_type": "code",
   "execution_count": 1,
   "metadata": {},
   "outputs": [],
   "source": [
    "import base64\n",
    "import requests\n",
    "from path import Path\n",
    "from pprint import pprint"
   ]
  },
  {
   "cell_type": "markdown",
   "metadata": {},
   "source": [
    "#### Test for right or wrong"
   ]
  },
  {
   "cell_type": "code",
   "execution_count": null,
   "metadata": {},
   "outputs": [],
   "source": [
    "host = '10.0.7.30'\n",
    "api = 'readAnswerWrongWithOthers'\n",
    "test_path = Path('D:\\\\temp\\\\pythontest\\\\right_wrong')\n",
    "all = []\n",
    "for p in sorted(test_path.files()):\n",
    "    all.append(base64.b64encode(open(p, 'rb').read()).decode())\n",
    "#print(all)\n",
    "res = requests.post(\"http://{}:8000/{}\".format(host, api), json={\"images\": all, \"wrongList\":\"0,2,6\", \"isBlack\": False})\n",
    "\n",
    "# pprint(res)\n",
    "pprint(res.json())"
   ]
  },
  {
   "cell_type": "markdown",
   "metadata": {},
   "source": [
    "#### Test for ABCD"
   ]
  },
  {
   "cell_type": "code",
   "execution_count": 18,
   "metadata": {},
   "outputs": [
    {
     "name": "stdout",
     "output_type": "stream",
     "text": [
      "{'point': [{'option': 0},\n",
      "           {'option': 1},\n",
      "           {'option': 2},\n",
      "           {'option': 3},\n",
      "           {'option': 1},\n",
      "           {'option': 2},\n",
      "           {'option': 2}],\n",
      " 'success': True}\n"
     ]
    }
   ],
   "source": [
    "host = '10.0.7.30'\n",
    "api = 'readAnswerOptions'\n",
    "test_path = Path('D:\\\\temp\\\\pythontest\\\\abcdefg')\n",
    "all = []\n",
    "for p in sorted(test_path.files()):\n",
    "    all.append(base64.b64encode(open(p, 'rb').read()).decode())\n",
    "#print(all)\n",
    "res = requests.post(\"http://{}:8000/{}\".format(host, api), json={\"images\": all,\"isBlack\":False,'withEFG':False})\n",
    "\n",
    "pprint(res.json())"
   ]
  },
  {
   "cell_type": "markdown",
   "metadata": {},
   "source": [
    "#### Test for numbers"
   ]
  },
  {
   "cell_type": "code",
   "execution_count": 30,
   "metadata": {},
   "outputs": [
    {
     "name": "stdout",
     "output_type": "stream",
     "text": [
      "{'confidence': 1.0, 'point': [0], 'success': True}\n",
      "{'confidence': 1.0, 'point': [0], 'success': True}\n",
      "{'confidence': 0.811, 'point': [2], 'success': True}\n"
     ]
    }
   ],
   "source": [
    "host = '10.0.7.30'\n",
    "api = 'readAnswerPoint'\n",
    "test_path = Path('D:\\\\temp\\\\pythontest\\\\12345\\\\black')\n",
    "all = []\n",
    "for p in sorted(test_path.files()):\n",
    "#     all.append(base64.b64encode(open(p, 'rb').read()).decode())\n",
    "    img =base64.b64encode(open(p, 'rb').read()).decode()\n",
    "    res = requests.post(\"http://{}:8000/{}\".format(host, api), json={\"image\": img,\"isBlack\":True})\n",
    "    pprint(res.json())\n",
    "#print(all)\n",
    "\n"
   ]
  }
 ],
 "metadata": {
  "kernelspec": {
   "display_name": "Python 3",
   "language": "python",
   "name": "python3"
  },
  "language_info": {
   "codemirror_mode": {
    "name": "ipython",
    "version": 3
   },
   "file_extension": ".py",
   "mimetype": "text/x-python",
   "name": "python",
   "nbconvert_exporter": "python",
   "pygments_lexer": "ipython3",
   "version": "3.5.2"
  }
 },
 "nbformat": 4,
 "nbformat_minor": 2
}
